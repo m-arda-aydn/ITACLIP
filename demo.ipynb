{
 "cells": [
  {
   "cell_type": "code",
   "execution_count": null,
   "metadata": {},
   "outputs": [],
   "source": [
    "import torch\n",
    "import numpy as np\n",
    "import matplotlib.pyplot as plt\n",
    "from mmengine.model.utils import revert_sync_batchnorm\n",
    "from mmseg.apis import init_model, inference_model\n",
    "from PIL import Image\n",
    "import torchmetrics\n",
    "import os\n",
    "from tqdm import tqdm\n",
    "import cv2"
   ]
  },
  {
   "cell_type": "code",
   "execution_count": 2,
   "metadata": {},
   "outputs": [],
   "source": [
    "palette_coco_stuff=[[0, 192, 64], [0, 192, 64], [0, 64, 96], [128, 192, 192],\n",
    "                 [0, 64, 64], [0, 192, 224], [0, 192, 192], [128, 192, 64],\n",
    "                 [0, 192, 96], [128, 192, 64], [128, 32, 192], [0, 0, 224],\n",
    "                 [0, 0, 64], [0, 160, 192], [128, 0, 96], [128, 0, 192],\n",
    "                 [0, 32, 192], [128, 128, 224], [0, 0, 192], [128, 160, 192],\n",
    "                 [128, 128, 0], [128, 0, 32], [128, 32, 0], [128, 0, 128],\n",
    "                 [64, 128, 32], [0, 160, 0], [0, 0, 0], [192, 128, 160],\n",
    "                 [0, 32, 0], [0, 128, 128], [64, 128, 160], [128, 160, 0],\n",
    "                 [0, 128, 0], [192, 128, 32], [128, 96, 128], [0, 0, 128],\n",
    "                 [64, 0, 32], [0, 224, 128], [128, 0, 0], [192, 0, 160],\n",
    "                 [0, 96, 128], [128, 128, 128], [64, 0, 160], [128, 224, 128],\n",
    "                 [128, 128, 64], [192, 0, 32], [128, 96, 0], [128, 0, 192],\n",
    "                 [0, 128, 32], [64, 224, 0], [0, 0, 64], [128, 128, 160],\n",
    "                 [64, 96, 0], [0, 128, 192], [0, 128, 160], [192, 224, 0],\n",
    "                 [0, 128, 64], [128, 128, 32], [192, 32, 128], [0, 64, 192],\n",
    "                 [0, 0, 32], [64, 160, 128], [128, 64, 64], [128, 0, 160],\n",
    "                 [64, 32, 128], [128, 192, 192], [0, 0, 160], [192, 160, 128],\n",
    "                 [128, 192, 0], [128, 0, 96], [192, 32, 0], [128, 64, 128],\n",
    "                 [64, 128, 96], [64, 160, 0], [0, 64, 0], [192, 128, 224],\n",
    "                 [64, 32, 0], [0, 192, 128], [64, 128, 224], [192, 160, 0],\n",
    "                 [0, 192, 0], [192, 128, 96], [192, 96, 128], [0, 64, 128],\n",
    "                 [64, 0, 96], [64, 224, 128], [128, 64, 0], [192, 0, 224],\n",
    "                 [64, 96, 128], [128, 192, 128], [64, 0, 224], [192, 224, 128],\n",
    "                 [128, 192, 64], [192, 0, 96], [192, 96, 0], [128, 64, 192],\n",
    "                 [0, 128, 96], [0, 224, 0], [64, 64, 64], [128, 128, 224],\n",
    "                 [0, 96, 0], [64, 192, 192], [0, 128, 224], [128, 224, 0],\n",
    "                 [64, 192, 64], [128, 128, 96], [128, 32, 128], [64, 0, 192],\n",
    "                 [0, 64, 96], [0, 160, 128], [192, 0, 64], [128, 64, 224],\n",
    "                 [0, 32, 128], [192, 128, 192], [0, 64, 224], [128, 160, 128],\n",
    "                 [192, 128, 0], [128, 64, 32], [128, 32, 64], [192, 0, 128],\n",
    "                 [64, 192, 32], [0, 160, 64], [64, 0, 0], [192, 192, 160],\n",
    "                 [0, 32, 64], [64, 128, 128], [64, 192, 160], [128, 160, 64],\n",
    "                 [64, 128, 0], [192, 192, 32], [128, 96, 192], [64, 0, 128],\n",
    "                 [64, 64, 32], [0, 224, 192], [192, 0, 0], [192, 64, 160],\n",
    "                 [0, 96, 192], [192, 128, 128], [64, 64, 160], [128, 224, 192],\n",
    "                 [192, 128, 64], [192, 64, 32], [128, 96, 64], [192, 0, 192],\n",
    "                 [0, 192, 32], [64, 224, 64], [64, 0, 64], [128, 192, 160],\n",
    "                 [64, 96, 64], [64, 128, 192], [0, 192, 160], [192, 224, 64],\n",
    "                 [64, 128, 64], [128, 192, 32], [192, 32, 192], [64, 64, 192],\n",
    "                 [0, 64, 32], [64, 160, 192], [192, 64, 64], [128, 64, 160],\n",
    "                 [64, 32, 192], [192, 192, 192], [0, 64, 160], [192, 160, 192],\n",
    "                 [192, 192, 0], [128, 64, 96], [192, 32, 64], [192, 64, 128],\n",
    "                 [64, 192, 96], [64, 160, 64], [64, 64, 0]]\n",
    "classes_coco_stuff = ['person', 'bicycle', 'car', 'motorcycle', 'airplane', 'bus',\n",
    "            'train', 'truck', 'boat', 'traffic light', 'fire hydrant',\n",
    "            'stop sign', 'parking meter', 'bench', 'bird', 'cat', 'dog',\n",
    "            'horse', 'sheep', 'cow', 'elephant', 'bear', 'zebra', 'giraffe',\n",
    "            'backpack', 'umbrella', 'handbag', 'tie', 'suitcase', 'frisbee',\n",
    "            'skis', 'snowboard', 'sports ball', 'kite', 'baseball bat',\n",
    "            'baseball glove', 'skateboard', 'surfboard', 'tennis racket',\n",
    "            'bottle', 'wine glass', 'cup', 'fork', 'knife', 'spoon', 'bowl',\n",
    "            'banana', 'apple', 'sandwich', 'orange', 'broccoli', 'carrot',\n",
    "            'hot dog', 'pizza', 'donut', 'cake', 'chair', 'couch',\n",
    "            'potted plant', 'bed', 'dining table', 'toilet', 'tv', 'laptop',\n",
    "            'mouse', 'remote', 'keyboard', 'cell phone', 'microwave', 'oven',\n",
    "            'toaster', 'sink', 'refrigerator', 'book', 'clock', 'vase',\n",
    "            'scissors', 'teddy bear', 'hair drier', 'toothbrush', 'banner',\n",
    "            'blanket', 'branch', 'bridge', 'building-other', 'bush', 'cabinet',\n",
    "            'cage', 'cardboard', 'carpet', 'ceiling-other', 'ceiling-tile',\n",
    "            'cloth', 'clothes', 'clouds', 'counter', 'cupboard', 'curtain',\n",
    "            'desk-stuff', 'dirt', 'door-stuff', 'fence', 'floor-marble',\n",
    "            'floor-other', 'floor-stone', 'floor-tile', 'floor-wood', 'flower',\n",
    "            'fog', 'food-other', 'fruit', 'furniture-other', 'grass', 'gravel',\n",
    "            'ground-other', 'hill', 'house', 'leaves', 'light', 'mat', 'metal',\n",
    "            'mirror-stuff', 'moss', 'mountain', 'mud', 'napkin', 'net',\n",
    "            'paper', 'pavement', 'pillow', 'plant-other', 'plastic',\n",
    "            'platform', 'playingfield', 'railing', 'railroad', 'river', 'road',\n",
    "            'rock', 'roof', 'rug', 'salad', 'sand', 'sea', 'shelf',\n",
    "            'sky-other', 'skyscraper', 'snow', 'solid-other', 'stairs',\n",
    "            'stone', 'straw', 'structural-other', 'table', 'tent',\n",
    "            'textile-other', 'towel', 'tree', 'vegetable', 'wall-brick',\n",
    "            'wall-concrete', 'wall-other', 'wall-panel', 'wall-stone',\n",
    "            'wall-tile', 'wall-wood', 'water-other', 'waterdrops',\n",
    "            'window-blind', 'window-other', 'wood']\n",
    "\n",
    "config_coco_stuff = '/mnt/disk2/arda_efe/graduation/ITACLIP/configs/cfg_coco_stuff164k.py'"
   ]
  },
  {
   "cell_type": "code",
   "execution_count": 3,
   "metadata": {},
   "outputs": [],
   "source": [
    "model = init_model(config_coco_stuff, device='cuda')\n",
    "if not torch.cuda.is_available():\n",
    "    model = revert_sync_batchnorm(model)"
   ]
  },
  {
   "cell_type": "code",
   "execution_count": 7,
   "metadata": {},
   "outputs": [
    {
     "data": {
      "image/png": "[encoded data removed]",
      "text/plain": [
       "<Figure size 640x480 with 1 Axes>"
      ]
     },
     "metadata": {},
     "output_type": "display_data"
    }
   ],
   "source": [
    "IMG_PATH = 'demo.jpg'\n",
    "result = inference_model(model, IMG_PATH)\n",
    "pred_map = result.pred_sem_seg.data.cpu().numpy().squeeze().astype(np.uint8)\n",
    "pred_map_painted = np.array(palette_coco_stuff)[pred_map].astype(np.uint8)\n",
    "plt.axis('off')\n",
    "plt.imshow(pred_map_painted)\n",
    "plt.show()"
   ]
  }
 ],
 "metadata": {
  "kernelspec": {
   "display_name": "tos",
   "language": "python",
   "name": "python3"
  },
  "language_info": {
   "codemirror_mode": {
    "name": "ipython",
    "version": 3
   },
   "file_extension": ".py",
   "mimetype": "text/x-python",
   "name": "python",
   "nbconvert_exporter": "python",
   "pygments_lexer": "ipython3",
   "version": "3.9.17"
  }
 },
 "nbformat": 4,
 "nbformat_minor": 2
}
